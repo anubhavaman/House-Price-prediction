{
 "cells": [
  {
   "cell_type": "markdown",
   "id": "dd1a78ec",
   "metadata": {},
   "source": [
    "# House Price prediction Model Using Linear Regression"
   ]
  },
  {
   "cell_type": "code",
   "execution_count": 1,
   "id": "c490806c",
   "metadata": {},
   "outputs": [],
   "source": [
    "import numpy as np # linear algebra\n",
    "import pandas as pd # data processing"
   ]
  },
  {
   "cell_type": "code",
   "execution_count": 2,
   "id": "b89ae733",
   "metadata": {},
   "outputs": [],
   "source": [
    "import os\n",
    "for dirname, _, filenames in os.walk('/kaggle/input'):\n",
    "    for filename in filenames:\n",
    "        print(os.path.join(dirname, filename))"
   ]
  },
  {
   "cell_type": "code",
   "execution_count": 3,
   "id": "ee4bce30",
   "metadata": {},
   "outputs": [
    {
     "data": {
      "text/html": [
       "<div>\n",
       "<style scoped>\n",
       "    .dataframe tbody tr th:only-of-type {\n",
       "        vertical-align: middle;\n",
       "    }\n",
       "\n",
       "    .dataframe tbody tr th {\n",
       "        vertical-align: top;\n",
       "    }\n",
       "\n",
       "    .dataframe thead th {\n",
       "        text-align: right;\n",
       "    }\n",
       "</style>\n",
       "<table border=\"1\" class=\"dataframe\">\n",
       "  <thead>\n",
       "    <tr style=\"text-align: right;\">\n",
       "      <th></th>\n",
       "      <th>date</th>\n",
       "      <th>price</th>\n",
       "      <th>bedrooms</th>\n",
       "      <th>bathrooms</th>\n",
       "      <th>sqft_living</th>\n",
       "      <th>sqft_lot</th>\n",
       "      <th>floors</th>\n",
       "      <th>waterfront</th>\n",
       "      <th>view</th>\n",
       "      <th>condition</th>\n",
       "      <th>sqft_above</th>\n",
       "      <th>sqft_basement</th>\n",
       "      <th>yr_built</th>\n",
       "      <th>yr_renovated</th>\n",
       "      <th>street</th>\n",
       "      <th>city</th>\n",
       "      <th>statezip</th>\n",
       "      <th>country</th>\n",
       "    </tr>\n",
       "  </thead>\n",
       "  <tbody>\n",
       "    <tr>\n",
       "      <th>0</th>\n",
       "      <td>2014-05-02 00:00:00</td>\n",
       "      <td>313000.0</td>\n",
       "      <td>3.0</td>\n",
       "      <td>1.50</td>\n",
       "      <td>1340</td>\n",
       "      <td>7912</td>\n",
       "      <td>1.5</td>\n",
       "      <td>0</td>\n",
       "      <td>0</td>\n",
       "      <td>3</td>\n",
       "      <td>1340</td>\n",
       "      <td>0</td>\n",
       "      <td>1955</td>\n",
       "      <td>2005</td>\n",
       "      <td>18810 Densmore Ave N</td>\n",
       "      <td>Shoreline</td>\n",
       "      <td>WA 98133</td>\n",
       "      <td>USA</td>\n",
       "    </tr>\n",
       "    <tr>\n",
       "      <th>1</th>\n",
       "      <td>2014-05-02 00:00:00</td>\n",
       "      <td>2384000.0</td>\n",
       "      <td>5.0</td>\n",
       "      <td>2.50</td>\n",
       "      <td>3650</td>\n",
       "      <td>9050</td>\n",
       "      <td>2.0</td>\n",
       "      <td>0</td>\n",
       "      <td>4</td>\n",
       "      <td>5</td>\n",
       "      <td>3370</td>\n",
       "      <td>280</td>\n",
       "      <td>1921</td>\n",
       "      <td>0</td>\n",
       "      <td>709 W Blaine St</td>\n",
       "      <td>Seattle</td>\n",
       "      <td>WA 98119</td>\n",
       "      <td>USA</td>\n",
       "    </tr>\n",
       "    <tr>\n",
       "      <th>2</th>\n",
       "      <td>2014-05-02 00:00:00</td>\n",
       "      <td>342000.0</td>\n",
       "      <td>3.0</td>\n",
       "      <td>2.00</td>\n",
       "      <td>1930</td>\n",
       "      <td>11947</td>\n",
       "      <td>1.0</td>\n",
       "      <td>0</td>\n",
       "      <td>0</td>\n",
       "      <td>4</td>\n",
       "      <td>1930</td>\n",
       "      <td>0</td>\n",
       "      <td>1966</td>\n",
       "      <td>0</td>\n",
       "      <td>26206-26214 143rd Ave SE</td>\n",
       "      <td>Kent</td>\n",
       "      <td>WA 98042</td>\n",
       "      <td>USA</td>\n",
       "    </tr>\n",
       "    <tr>\n",
       "      <th>3</th>\n",
       "      <td>2014-05-02 00:00:00</td>\n",
       "      <td>420000.0</td>\n",
       "      <td>3.0</td>\n",
       "      <td>2.25</td>\n",
       "      <td>2000</td>\n",
       "      <td>8030</td>\n",
       "      <td>1.0</td>\n",
       "      <td>0</td>\n",
       "      <td>0</td>\n",
       "      <td>4</td>\n",
       "      <td>1000</td>\n",
       "      <td>1000</td>\n",
       "      <td>1963</td>\n",
       "      <td>0</td>\n",
       "      <td>857 170th Pl NE</td>\n",
       "      <td>Bellevue</td>\n",
       "      <td>WA 98008</td>\n",
       "      <td>USA</td>\n",
       "    </tr>\n",
       "    <tr>\n",
       "      <th>4</th>\n",
       "      <td>2014-05-02 00:00:00</td>\n",
       "      <td>550000.0</td>\n",
       "      <td>4.0</td>\n",
       "      <td>2.50</td>\n",
       "      <td>1940</td>\n",
       "      <td>10500</td>\n",
       "      <td>1.0</td>\n",
       "      <td>0</td>\n",
       "      <td>0</td>\n",
       "      <td>4</td>\n",
       "      <td>1140</td>\n",
       "      <td>800</td>\n",
       "      <td>1976</td>\n",
       "      <td>1992</td>\n",
       "      <td>9105 170th Ave NE</td>\n",
       "      <td>Redmond</td>\n",
       "      <td>WA 98052</td>\n",
       "      <td>USA</td>\n",
       "    </tr>\n",
       "  </tbody>\n",
       "</table>\n",
       "</div>"
      ],
      "text/plain": [
       "                  date      price  bedrooms  bathrooms  sqft_living  sqft_lot  \\\n",
       "0  2014-05-02 00:00:00   313000.0       3.0       1.50         1340      7912   \n",
       "1  2014-05-02 00:00:00  2384000.0       5.0       2.50         3650      9050   \n",
       "2  2014-05-02 00:00:00   342000.0       3.0       2.00         1930     11947   \n",
       "3  2014-05-02 00:00:00   420000.0       3.0       2.25         2000      8030   \n",
       "4  2014-05-02 00:00:00   550000.0       4.0       2.50         1940     10500   \n",
       "\n",
       "   floors  waterfront  view  condition  sqft_above  sqft_basement  yr_built  \\\n",
       "0     1.5           0     0          3        1340              0      1955   \n",
       "1     2.0           0     4          5        3370            280      1921   \n",
       "2     1.0           0     0          4        1930              0      1966   \n",
       "3     1.0           0     0          4        1000           1000      1963   \n",
       "4     1.0           0     0          4        1140            800      1976   \n",
       "\n",
       "   yr_renovated                    street       city  statezip country  \n",
       "0          2005      18810 Densmore Ave N  Shoreline  WA 98133     USA  \n",
       "1             0           709 W Blaine St    Seattle  WA 98119     USA  \n",
       "2             0  26206-26214 143rd Ave SE       Kent  WA 98042     USA  \n",
       "3             0           857 170th Pl NE   Bellevue  WA 98008     USA  \n",
       "4          1992         9105 170th Ave NE    Redmond  WA 98052     USA  "
      ]
     },
     "execution_count": 3,
     "metadata": {},
     "output_type": "execute_result"
    }
   ],
   "source": [
    "data = pd.read_csv('data.csv')\n",
    "data.head()"
   ]
  },
  {
   "cell_type": "code",
   "execution_count": 4,
   "id": "2ff5e464",
   "metadata": {},
   "outputs": [
    {
     "data": {
      "text/plain": [
       "(4600, 18)"
      ]
     },
     "execution_count": 4,
     "metadata": {},
     "output_type": "execute_result"
    }
   ],
   "source": [
    "data.shape"
   ]
  },
  {
   "cell_type": "code",
   "execution_count": 5,
   "id": "6be2d04c",
   "metadata": {},
   "outputs": [
    {
     "name": "stdout",
     "output_type": "stream",
     "text": [
      "<class 'pandas.core.frame.DataFrame'>\n",
      "RangeIndex: 4600 entries, 0 to 4599\n",
      "Data columns (total 18 columns):\n",
      " #   Column         Non-Null Count  Dtype  \n",
      "---  ------         --------------  -----  \n",
      " 0   date           4600 non-null   object \n",
      " 1   price          4600 non-null   float64\n",
      " 2   bedrooms       4600 non-null   float64\n",
      " 3   bathrooms      4600 non-null   float64\n",
      " 4   sqft_living    4600 non-null   int64  \n",
      " 5   sqft_lot       4600 non-null   int64  \n",
      " 6   floors         4600 non-null   float64\n",
      " 7   waterfront     4600 non-null   int64  \n",
      " 8   view           4600 non-null   int64  \n",
      " 9   condition      4600 non-null   int64  \n",
      " 10  sqft_above     4600 non-null   int64  \n",
      " 11  sqft_basement  4600 non-null   int64  \n",
      " 12  yr_built       4600 non-null   int64  \n",
      " 13  yr_renovated   4600 non-null   int64  \n",
      " 14  street         4600 non-null   object \n",
      " 15  city           4600 non-null   object \n",
      " 16  statezip       4600 non-null   object \n",
      " 17  country        4600 non-null   object \n",
      "dtypes: float64(4), int64(9), object(5)\n",
      "memory usage: 647.0+ KB\n"
     ]
    }
   ],
   "source": [
    "data.info()"
   ]
  },
  {
   "cell_type": "code",
   "execution_count": 6,
   "id": "ff2543f7",
   "metadata": {},
   "outputs": [
    {
     "data": {
      "text/plain": [
       "Index(['date', 'price', 'bedrooms', 'bathrooms', 'sqft_living', 'sqft_lot',\n",
       "       'floors', 'waterfront', 'view', 'condition', 'sqft_above',\n",
       "       'sqft_basement', 'yr_built', 'yr_renovated', 'street', 'city',\n",
       "       'statezip', 'country'],\n",
       "      dtype='object')"
      ]
     },
     "execution_count": 6,
     "metadata": {},
     "output_type": "execute_result"
    }
   ],
   "source": [
    "data.columns"
   ]
  },
  {
   "cell_type": "code",
   "execution_count": 7,
   "id": "85f5cd0c",
   "metadata": {},
   "outputs": [
    {
     "data": {
      "text/plain": [
       "date             0\n",
       "price            0\n",
       "bedrooms         0\n",
       "bathrooms        0\n",
       "sqft_living      0\n",
       "sqft_lot         0\n",
       "floors           0\n",
       "waterfront       0\n",
       "view             0\n",
       "condition        0\n",
       "sqft_above       0\n",
       "sqft_basement    0\n",
       "yr_built         0\n",
       "yr_renovated     0\n",
       "street           0\n",
       "city             0\n",
       "statezip         0\n",
       "country          0\n",
       "dtype: int64"
      ]
     },
     "execution_count": 7,
     "metadata": {},
     "output_type": "execute_result"
    }
   ],
   "source": [
    "data.isnull().sum()"
   ]
  },
  {
   "cell_type": "code",
   "execution_count": 8,
   "id": "9fbe58c5",
   "metadata": {},
   "outputs": [
    {
     "data": {
      "text/html": [
       "<div>\n",
       "<style scoped>\n",
       "    .dataframe tbody tr th:only-of-type {\n",
       "        vertical-align: middle;\n",
       "    }\n",
       "\n",
       "    .dataframe tbody tr th {\n",
       "        vertical-align: top;\n",
       "    }\n",
       "\n",
       "    .dataframe thead th {\n",
       "        text-align: right;\n",
       "    }\n",
       "</style>\n",
       "<table border=\"1\" class=\"dataframe\">\n",
       "  <thead>\n",
       "    <tr style=\"text-align: right;\">\n",
       "      <th></th>\n",
       "      <th>price</th>\n",
       "      <th>bedrooms</th>\n",
       "      <th>bathrooms</th>\n",
       "      <th>sqft_living</th>\n",
       "      <th>sqft_lot</th>\n",
       "      <th>floors</th>\n",
       "      <th>waterfront</th>\n",
       "      <th>view</th>\n",
       "      <th>condition</th>\n",
       "      <th>sqft_above</th>\n",
       "      <th>sqft_basement</th>\n",
       "      <th>yr_built</th>\n",
       "      <th>yr_renovated</th>\n",
       "    </tr>\n",
       "  </thead>\n",
       "  <tbody>\n",
       "    <tr>\n",
       "      <th>count</th>\n",
       "      <td>4600.00</td>\n",
       "      <td>4600.00</td>\n",
       "      <td>4600.00</td>\n",
       "      <td>4600.00</td>\n",
       "      <td>4600.00</td>\n",
       "      <td>4600.00</td>\n",
       "      <td>4600.00</td>\n",
       "      <td>4600.00</td>\n",
       "      <td>4600.00</td>\n",
       "      <td>4600.00</td>\n",
       "      <td>4600.00</td>\n",
       "      <td>4600.00</td>\n",
       "      <td>4600.00</td>\n",
       "    </tr>\n",
       "    <tr>\n",
       "      <th>mean</th>\n",
       "      <td>551962.99</td>\n",
       "      <td>3.40</td>\n",
       "      <td>2.16</td>\n",
       "      <td>2139.35</td>\n",
       "      <td>14852.52</td>\n",
       "      <td>1.51</td>\n",
       "      <td>0.01</td>\n",
       "      <td>0.24</td>\n",
       "      <td>3.45</td>\n",
       "      <td>1827.27</td>\n",
       "      <td>312.08</td>\n",
       "      <td>1970.79</td>\n",
       "      <td>808.61</td>\n",
       "    </tr>\n",
       "    <tr>\n",
       "      <th>std</th>\n",
       "      <td>563834.70</td>\n",
       "      <td>0.91</td>\n",
       "      <td>0.78</td>\n",
       "      <td>963.21</td>\n",
       "      <td>35884.44</td>\n",
       "      <td>0.54</td>\n",
       "      <td>0.08</td>\n",
       "      <td>0.78</td>\n",
       "      <td>0.68</td>\n",
       "      <td>862.17</td>\n",
       "      <td>464.14</td>\n",
       "      <td>29.73</td>\n",
       "      <td>979.41</td>\n",
       "    </tr>\n",
       "    <tr>\n",
       "      <th>min</th>\n",
       "      <td>0.00</td>\n",
       "      <td>0.00</td>\n",
       "      <td>0.00</td>\n",
       "      <td>370.00</td>\n",
       "      <td>638.00</td>\n",
       "      <td>1.00</td>\n",
       "      <td>0.00</td>\n",
       "      <td>0.00</td>\n",
       "      <td>1.00</td>\n",
       "      <td>370.00</td>\n",
       "      <td>0.00</td>\n",
       "      <td>1900.00</td>\n",
       "      <td>0.00</td>\n",
       "    </tr>\n",
       "    <tr>\n",
       "      <th>25%</th>\n",
       "      <td>322875.00</td>\n",
       "      <td>3.00</td>\n",
       "      <td>1.75</td>\n",
       "      <td>1460.00</td>\n",
       "      <td>5000.75</td>\n",
       "      <td>1.00</td>\n",
       "      <td>0.00</td>\n",
       "      <td>0.00</td>\n",
       "      <td>3.00</td>\n",
       "      <td>1190.00</td>\n",
       "      <td>0.00</td>\n",
       "      <td>1951.00</td>\n",
       "      <td>0.00</td>\n",
       "    </tr>\n",
       "    <tr>\n",
       "      <th>50%</th>\n",
       "      <td>460943.46</td>\n",
       "      <td>3.00</td>\n",
       "      <td>2.25</td>\n",
       "      <td>1980.00</td>\n",
       "      <td>7683.00</td>\n",
       "      <td>1.50</td>\n",
       "      <td>0.00</td>\n",
       "      <td>0.00</td>\n",
       "      <td>3.00</td>\n",
       "      <td>1590.00</td>\n",
       "      <td>0.00</td>\n",
       "      <td>1976.00</td>\n",
       "      <td>0.00</td>\n",
       "    </tr>\n",
       "    <tr>\n",
       "      <th>75%</th>\n",
       "      <td>654962.50</td>\n",
       "      <td>4.00</td>\n",
       "      <td>2.50</td>\n",
       "      <td>2620.00</td>\n",
       "      <td>11001.25</td>\n",
       "      <td>2.00</td>\n",
       "      <td>0.00</td>\n",
       "      <td>0.00</td>\n",
       "      <td>4.00</td>\n",
       "      <td>2300.00</td>\n",
       "      <td>610.00</td>\n",
       "      <td>1997.00</td>\n",
       "      <td>1999.00</td>\n",
       "    </tr>\n",
       "    <tr>\n",
       "      <th>max</th>\n",
       "      <td>26590000.00</td>\n",
       "      <td>9.00</td>\n",
       "      <td>8.00</td>\n",
       "      <td>13540.00</td>\n",
       "      <td>1074218.00</td>\n",
       "      <td>3.50</td>\n",
       "      <td>1.00</td>\n",
       "      <td>4.00</td>\n",
       "      <td>5.00</td>\n",
       "      <td>9410.00</td>\n",
       "      <td>4820.00</td>\n",
       "      <td>2014.00</td>\n",
       "      <td>2014.00</td>\n",
       "    </tr>\n",
       "  </tbody>\n",
       "</table>\n",
       "</div>"
      ],
      "text/plain": [
       "             price  bedrooms  bathrooms  sqft_living    sqft_lot   floors  \\\n",
       "count      4600.00   4600.00    4600.00      4600.00     4600.00  4600.00   \n",
       "mean     551962.99      3.40       2.16      2139.35    14852.52     1.51   \n",
       "std      563834.70      0.91       0.78       963.21    35884.44     0.54   \n",
       "min           0.00      0.00       0.00       370.00      638.00     1.00   \n",
       "25%      322875.00      3.00       1.75      1460.00     5000.75     1.00   \n",
       "50%      460943.46      3.00       2.25      1980.00     7683.00     1.50   \n",
       "75%      654962.50      4.00       2.50      2620.00    11001.25     2.00   \n",
       "max    26590000.00      9.00       8.00     13540.00  1074218.00     3.50   \n",
       "\n",
       "       waterfront     view  condition  sqft_above  sqft_basement  yr_built  \\\n",
       "count     4600.00  4600.00    4600.00     4600.00        4600.00   4600.00   \n",
       "mean         0.01     0.24       3.45     1827.27         312.08   1970.79   \n",
       "std          0.08     0.78       0.68      862.17         464.14     29.73   \n",
       "min          0.00     0.00       1.00      370.00           0.00   1900.00   \n",
       "25%          0.00     0.00       3.00     1190.00           0.00   1951.00   \n",
       "50%          0.00     0.00       3.00     1590.00           0.00   1976.00   \n",
       "75%          0.00     0.00       4.00     2300.00         610.00   1997.00   \n",
       "max          1.00     4.00       5.00     9410.00        4820.00   2014.00   \n",
       "\n",
       "       yr_renovated  \n",
       "count       4600.00  \n",
       "mean         808.61  \n",
       "std          979.41  \n",
       "min            0.00  \n",
       "25%            0.00  \n",
       "50%            0.00  \n",
       "75%         1999.00  \n",
       "max         2014.00  "
      ]
     },
     "execution_count": 8,
     "metadata": {},
     "output_type": "execute_result"
    }
   ],
   "source": [
    "np.round(data.describe(), 2)"
   ]
  },
  {
   "cell_type": "markdown",
   "id": "511e9b91",
   "metadata": {},
   "source": [
    "# Data Preprocessing Stage\n"
   ]
  },
  {
   "cell_type": "code",
   "execution_count": 11,
   "id": "e04d726e",
   "metadata": {},
   "outputs": [
    {
     "data": {
      "text/plain": [
       "array(['2014-05-02 00:00:00', '2014-05-03 00:00:00',\n",
       "       '2014-05-04 00:00:00', '2014-05-05 00:00:00',\n",
       "       '2014-05-06 00:00:00', '2014-05-07 00:00:00',\n",
       "       '2014-05-08 00:00:00', '2014-05-09 00:00:00',\n",
       "       '2014-05-10 00:00:00', '2014-05-11 00:00:00',\n",
       "       '2014-05-12 00:00:00', '2014-05-13 00:00:00',\n",
       "       '2014-05-14 00:00:00', '2014-05-15 00:00:00',\n",
       "       '2014-05-16 00:00:00', '2014-05-17 00:00:00',\n",
       "       '2014-05-18 00:00:00', '2014-05-19 00:00:00',\n",
       "       '2014-05-20 00:00:00', '2014-05-21 00:00:00',\n",
       "       '2014-05-22 00:00:00', '2014-05-23 00:00:00',\n",
       "       '2014-05-24 00:00:00', '2014-05-25 00:00:00',\n",
       "       '2014-05-26 00:00:00', '2014-05-27 00:00:00',\n",
       "       '2014-05-28 00:00:00', '2014-05-29 00:00:00',\n",
       "       '2014-05-30 00:00:00', '2014-05-31 00:00:00',\n",
       "       '2014-06-01 00:00:00', '2014-06-02 00:00:00',\n",
       "       '2014-06-03 00:00:00', '2014-06-04 00:00:00',\n",
       "       '2014-06-05 00:00:00', '2014-06-06 00:00:00',\n",
       "       '2014-06-07 00:00:00', '2014-06-08 00:00:00',\n",
       "       '2014-06-09 00:00:00', '2014-06-10 00:00:00',\n",
       "       '2014-06-11 00:00:00', '2014-06-12 00:00:00',\n",
       "       '2014-06-13 00:00:00', '2014-06-14 00:00:00',\n",
       "       '2014-06-15 00:00:00', '2014-06-16 00:00:00',\n",
       "       '2014-06-17 00:00:00', '2014-06-18 00:00:00',\n",
       "       '2014-06-19 00:00:00', '2014-06-20 00:00:00',\n",
       "       '2014-06-21 00:00:00', '2014-06-22 00:00:00',\n",
       "       '2014-06-23 00:00:00', '2014-06-24 00:00:00',\n",
       "       '2014-06-25 00:00:00', '2014-06-26 00:00:00',\n",
       "       '2014-06-27 00:00:00', '2014-06-28 00:00:00',\n",
       "       '2014-06-29 00:00:00', '2014-06-30 00:00:00',\n",
       "       '2014-07-01 00:00:00', '2014-07-02 00:00:00',\n",
       "       '2014-07-03 00:00:00', '2014-07-04 00:00:00',\n",
       "       '2014-07-05 00:00:00', '2014-07-06 00:00:00',\n",
       "       '2014-07-07 00:00:00', '2014-07-08 00:00:00',\n",
       "       '2014-07-09 00:00:00', '2014-07-10 00:00:00'], dtype=object)"
      ]
     },
     "execution_count": 11,
     "metadata": {},
     "output_type": "execute_result"
    }
   ],
   "source": [
    "data['date'].unique()"
   ]
  },
  {
   "cell_type": "markdown",
   "id": "9d7f192f",
   "metadata": {},
   "source": [
    "# Data visualization and Data Preprocessing"
   ]
  },
  {
   "cell_type": "code",
   "execution_count": 12,
   "id": "7fbf4915",
   "metadata": {},
   "outputs": [],
   "source": [
    "import seaborn as sns\n",
    "import matplotlib.pyplot as plt\n",
    "%matplotlib inline"
   ]
  },
  {
   "cell_type": "code",
   "execution_count": 13,
   "id": "bb0b4852",
   "metadata": {},
   "outputs": [
    {
     "data": {
      "text/html": [
       "<div>\n",
       "<style scoped>\n",
       "    .dataframe tbody tr th:only-of-type {\n",
       "        vertical-align: middle;\n",
       "    }\n",
       "\n",
       "    .dataframe tbody tr th {\n",
       "        vertical-align: top;\n",
       "    }\n",
       "\n",
       "    .dataframe thead th {\n",
       "        text-align: right;\n",
       "    }\n",
       "</style>\n",
       "<table border=\"1\" class=\"dataframe\">\n",
       "  <thead>\n",
       "    <tr style=\"text-align: right;\">\n",
       "      <th></th>\n",
       "      <th>date</th>\n",
       "      <th>price</th>\n",
       "      <th>bedrooms</th>\n",
       "      <th>bathrooms</th>\n",
       "      <th>sqft_living</th>\n",
       "      <th>sqft_lot</th>\n",
       "      <th>floors</th>\n",
       "      <th>waterfront</th>\n",
       "      <th>view</th>\n",
       "      <th>condition</th>\n",
       "      <th>sqft_above</th>\n",
       "      <th>sqft_basement</th>\n",
       "      <th>yr_built</th>\n",
       "      <th>yr_renovated</th>\n",
       "      <th>street</th>\n",
       "      <th>city</th>\n",
       "      <th>statezip</th>\n",
       "      <th>country</th>\n",
       "    </tr>\n",
       "  </thead>\n",
       "  <tbody>\n",
       "    <tr>\n",
       "      <th>0</th>\n",
       "      <td>2014-05-02 00:00:00</td>\n",
       "      <td>313000.0</td>\n",
       "      <td>3.0</td>\n",
       "      <td>1.5</td>\n",
       "      <td>1340</td>\n",
       "      <td>7912</td>\n",
       "      <td>1.5</td>\n",
       "      <td>0</td>\n",
       "      <td>0</td>\n",
       "      <td>3</td>\n",
       "      <td>1340</td>\n",
       "      <td>0</td>\n",
       "      <td>1955</td>\n",
       "      <td>2005</td>\n",
       "      <td>18810 Densmore Ave N</td>\n",
       "      <td>Shoreline</td>\n",
       "      <td>WA 98133</td>\n",
       "      <td>USA</td>\n",
       "    </tr>\n",
       "    <tr>\n",
       "      <th>1</th>\n",
       "      <td>2014-05-02 00:00:00</td>\n",
       "      <td>2384000.0</td>\n",
       "      <td>5.0</td>\n",
       "      <td>2.5</td>\n",
       "      <td>3650</td>\n",
       "      <td>9050</td>\n",
       "      <td>2.0</td>\n",
       "      <td>0</td>\n",
       "      <td>4</td>\n",
       "      <td>5</td>\n",
       "      <td>3370</td>\n",
       "      <td>280</td>\n",
       "      <td>1921</td>\n",
       "      <td>0</td>\n",
       "      <td>709 W Blaine St</td>\n",
       "      <td>Seattle</td>\n",
       "      <td>WA 98119</td>\n",
       "      <td>USA</td>\n",
       "    </tr>\n",
       "  </tbody>\n",
       "</table>\n",
       "</div>"
      ],
      "text/plain": [
       "                  date      price  bedrooms  bathrooms  sqft_living  sqft_lot  \\\n",
       "0  2014-05-02 00:00:00   313000.0       3.0        1.5         1340      7912   \n",
       "1  2014-05-02 00:00:00  2384000.0       5.0        2.5         3650      9050   \n",
       "\n",
       "   floors  waterfront  view  condition  sqft_above  sqft_basement  yr_built  \\\n",
       "0     1.5           0     0          3        1340              0      1955   \n",
       "1     2.0           0     4          5        3370            280      1921   \n",
       "\n",
       "   yr_renovated                street       city  statezip country  \n",
       "0          2005  18810 Densmore Ave N  Shoreline  WA 98133     USA  \n",
       "1             0       709 W Blaine St    Seattle  WA 98119     USA  "
      ]
     },
     "execution_count": 13,
     "metadata": {},
     "output_type": "execute_result"
    }
   ],
   "source": [
    "data.head(2)"
   ]
  },
  {
   "cell_type": "code",
   "execution_count": 14,
   "id": "ba0c9bb6",
   "metadata": {},
   "outputs": [
    {
     "data": {
      "text/plain": [
       "<AxesSubplot:xlabel='price'>"
      ]
     },
     "execution_count": 14,
     "metadata": {},
     "output_type": "execute_result"
    },
    {
     "data": {
      "image/png": "[encoded data removed]",
      "text/plain": [
       "<Figure size 432x288 with 1 Axes>"
      ]
     },
     "metadata": {
      "needs_background": "light"
     },
     "output_type": "display_data"
    }
   ],
   "source": [
    "sns.boxplot(x=data['price'], data=data)"
   ]
  },
  {
   "cell_type": "code",
   "execution_count": 15,
   "id": "348d3207",
   "metadata": {},
   "outputs": [
    {
     "data": {
      "text/plain": [
       "<seaborn.axisgrid.FacetGrid at 0x198df8c73d0>"
      ]
     },
     "execution_count": 15,
     "metadata": {},
     "output_type": "execute_result"
    },
    {
     "data": {
      "image/png": "[encoded data removed]",
      "text/plain": [
       "<Figure size 360x360 with 1 Axes>"
      ]
     },
     "metadata": {
      "needs_background": "light"
     },
     "output_type": "display_data"
    }
   ],
   "source": [
    "sns.displot(x=data['price'])"
   ]
  },
  {
   "cell_type": "code",
   "execution_count": 16,
   "id": "e6e55c33",
   "metadata": {},
   "outputs": [],
   "source": [
    "def remove_outliers(data, x):\n",
    "    ##lets set the limits\n",
    "    q25 = np.percentile(data[x], 25)\n",
    "    q75 = np.percentile(data[x], 75)\n",
    "    iqr = q75 - q25\n",
    "    cut_off = iqr * 1.5\n",
    "    lower, upper = 1, (q75 + cut_off)\n",
    "    data = data[(data[x] < upper) & (data[x] > lower)]\n",
    "    print(f\"Outliers of {x} are removed\\n\")\n",
    "    return data"
   ]
  },
  {
   "cell_type": "code",
   "execution_count": 17,
   "id": "bfa093be",
   "metadata": {},
   "outputs": [
    {
     "name": "stdout",
     "output_type": "stream",
     "text": [
      "Outliers of price are removed\n",
      "\n"
     ]
    }
   ],
   "source": [
    "data = remove_outliers(data, 'price')"
   ]
  },
  {
   "cell_type": "code",
   "execution_count": 18,
   "id": "17e05d65",
   "metadata": {},
   "outputs": [
    {
     "data": {
      "text/plain": [
       "(4311, 18)"
      ]
     },
     "execution_count": 18,
     "metadata": {},
     "output_type": "execute_result"
    }
   ],
   "source": [
    "data.shape"
   ]
  },
  {
   "cell_type": "code",
   "execution_count": 19,
   "id": "41140169",
   "metadata": {},
   "outputs": [
    {
     "data": {
      "text/html": [
       "<div>\n",
       "<style scoped>\n",
       "    .dataframe tbody tr th:only-of-type {\n",
       "        vertical-align: middle;\n",
       "    }\n",
       "\n",
       "    .dataframe tbody tr th {\n",
       "        vertical-align: top;\n",
       "    }\n",
       "\n",
       "    .dataframe thead th {\n",
       "        text-align: right;\n",
       "    }\n",
       "</style>\n",
       "<table border=\"1\" class=\"dataframe\">\n",
       "  <thead>\n",
       "    <tr style=\"text-align: right;\">\n",
       "      <th></th>\n",
       "      <th>count</th>\n",
       "      <th>mean</th>\n",
       "      <th>std</th>\n",
       "      <th>min</th>\n",
       "      <th>25%</th>\n",
       "      <th>50%</th>\n",
       "      <th>75%</th>\n",
       "      <th>max</th>\n",
       "    </tr>\n",
       "  </thead>\n",
       "  <tbody>\n",
       "    <tr>\n",
       "      <th>price</th>\n",
       "      <td>4311.0</td>\n",
       "      <td>487456.901904</td>\n",
       "      <td>215659.641022</td>\n",
       "      <td>7800.0</td>\n",
       "      <td>320000.00</td>\n",
       "      <td>450000.00</td>\n",
       "      <td>615000.0</td>\n",
       "      <td>1150000.00</td>\n",
       "    </tr>\n",
       "    <tr>\n",
       "      <th>bedrooms</th>\n",
       "      <td>4311.0</td>\n",
       "      <td>3.351659</td>\n",
       "      <td>0.881215</td>\n",
       "      <td>0.0</td>\n",
       "      <td>3.00</td>\n",
       "      <td>3.00</td>\n",
       "      <td>4.0</td>\n",
       "      <td>9.00</td>\n",
       "    </tr>\n",
       "    <tr>\n",
       "      <th>bathrooms</th>\n",
       "      <td>4311.0</td>\n",
       "      <td>2.094352</td>\n",
       "      <td>0.715171</td>\n",
       "      <td>0.0</td>\n",
       "      <td>1.75</td>\n",
       "      <td>2.25</td>\n",
       "      <td>2.5</td>\n",
       "      <td>5.75</td>\n",
       "    </tr>\n",
       "    <tr>\n",
       "      <th>sqft_living</th>\n",
       "      <td>4311.0</td>\n",
       "      <td>2030.697982</td>\n",
       "      <td>810.138266</td>\n",
       "      <td>370.0</td>\n",
       "      <td>1430.00</td>\n",
       "      <td>1920.00</td>\n",
       "      <td>2510.0</td>\n",
       "      <td>7320.00</td>\n",
       "    </tr>\n",
       "    <tr>\n",
       "      <th>sqft_lot</th>\n",
       "      <td>4311.0</td>\n",
       "      <td>14598.596149</td>\n",
       "      <td>36141.110719</td>\n",
       "      <td>638.0</td>\n",
       "      <td>5000.00</td>\n",
       "      <td>7566.00</td>\n",
       "      <td>10696.5</td>\n",
       "      <td>1074218.00</td>\n",
       "    </tr>\n",
       "    <tr>\n",
       "      <th>floors</th>\n",
       "      <td>4311.0</td>\n",
       "      <td>1.495129</td>\n",
       "      <td>0.536898</td>\n",
       "      <td>1.0</td>\n",
       "      <td>1.00</td>\n",
       "      <td>1.50</td>\n",
       "      <td>2.0</td>\n",
       "      <td>3.50</td>\n",
       "    </tr>\n",
       "    <tr>\n",
       "      <th>waterfront</th>\n",
       "      <td>4311.0</td>\n",
       "      <td>0.003711</td>\n",
       "      <td>0.060815</td>\n",
       "      <td>0.0</td>\n",
       "      <td>0.00</td>\n",
       "      <td>0.00</td>\n",
       "      <td>0.0</td>\n",
       "      <td>1.00</td>\n",
       "    </tr>\n",
       "    <tr>\n",
       "      <th>view</th>\n",
       "      <td>4311.0</td>\n",
       "      <td>0.173742</td>\n",
       "      <td>0.644964</td>\n",
       "      <td>0.0</td>\n",
       "      <td>0.00</td>\n",
       "      <td>0.00</td>\n",
       "      <td>0.0</td>\n",
       "      <td>4.00</td>\n",
       "    </tr>\n",
       "    <tr>\n",
       "      <th>condition</th>\n",
       "      <td>4311.0</td>\n",
       "      <td>3.443749</td>\n",
       "      <td>0.669194</td>\n",
       "      <td>1.0</td>\n",
       "      <td>3.00</td>\n",
       "      <td>3.00</td>\n",
       "      <td>4.0</td>\n",
       "      <td>5.00</td>\n",
       "    </tr>\n",
       "    <tr>\n",
       "      <th>sqft_above</th>\n",
       "      <td>4311.0</td>\n",
       "      <td>1747.008583</td>\n",
       "      <td>763.543329</td>\n",
       "      <td>370.0</td>\n",
       "      <td>1170.00</td>\n",
       "      <td>1540.00</td>\n",
       "      <td>2190.0</td>\n",
       "      <td>7320.00</td>\n",
       "    </tr>\n",
       "    <tr>\n",
       "      <th>sqft_basement</th>\n",
       "      <td>4311.0</td>\n",
       "      <td>283.689399</td>\n",
       "      <td>422.527450</td>\n",
       "      <td>0.0</td>\n",
       "      <td>0.00</td>\n",
       "      <td>0.00</td>\n",
       "      <td>560.0</td>\n",
       "      <td>2300.00</td>\n",
       "    </tr>\n",
       "    <tr>\n",
       "      <th>yr_built</th>\n",
       "      <td>4311.0</td>\n",
       "      <td>1970.881234</td>\n",
       "      <td>29.506086</td>\n",
       "      <td>1900.0</td>\n",
       "      <td>1951.00</td>\n",
       "      <td>1976.00</td>\n",
       "      <td>1996.0</td>\n",
       "      <td>2014.00</td>\n",
       "    </tr>\n",
       "    <tr>\n",
       "      <th>yr_renovated</th>\n",
       "      <td>4311.0</td>\n",
       "      <td>810.582000</td>\n",
       "      <td>979.844447</td>\n",
       "      <td>0.0</td>\n",
       "      <td>0.00</td>\n",
       "      <td>0.00</td>\n",
       "      <td>1999.0</td>\n",
       "      <td>2014.00</td>\n",
       "    </tr>\n",
       "  </tbody>\n",
       "</table>\n",
       "</div>"
      ],
      "text/plain": [
       "                count           mean            std     min        25%  \\\n",
       "price          4311.0  487456.901904  215659.641022  7800.0  320000.00   \n",
       "bedrooms       4311.0       3.351659       0.881215     0.0       3.00   \n",
       "bathrooms      4311.0       2.094352       0.715171     0.0       1.75   \n",
       "sqft_living    4311.0    2030.697982     810.138266   370.0    1430.00   \n",
       "sqft_lot       4311.0   14598.596149   36141.110719   638.0    5000.00   \n",
       "floors         4311.0       1.495129       0.536898     1.0       1.00   \n",
       "waterfront     4311.0       0.003711       0.060815     0.0       0.00   \n",
       "view           4311.0       0.173742       0.644964     0.0       0.00   \n",
       "condition      4311.0       3.443749       0.669194     1.0       3.00   \n",
       "sqft_above     4311.0    1747.008583     763.543329   370.0    1170.00   \n",
       "sqft_basement  4311.0     283.689399     422.527450     0.0       0.00   \n",
       "yr_built       4311.0    1970.881234      29.506086  1900.0    1951.00   \n",
       "yr_renovated   4311.0     810.582000     979.844447     0.0       0.00   \n",
       "\n",
       "                     50%       75%         max  \n",
       "price          450000.00  615000.0  1150000.00  \n",
       "bedrooms            3.00       4.0        9.00  \n",
       "bathrooms           2.25       2.5        5.75  \n",
       "sqft_living      1920.00    2510.0     7320.00  \n",
       "sqft_lot         7566.00   10696.5  1074218.00  \n",
       "floors              1.50       2.0        3.50  \n",
       "waterfront          0.00       0.0        1.00  \n",
       "view                0.00       0.0        4.00  \n",
       "condition           3.00       4.0        5.00  \n",
       "sqft_above       1540.00    2190.0     7320.00  \n",
       "sqft_basement       0.00     560.0     2300.00  \n",
       "yr_built         1976.00    1996.0     2014.00  \n",
       "yr_renovated        0.00    1999.0     2014.00  "
      ]
     },
     "execution_count": 19,
     "metadata": {},
     "output_type": "execute_result"
    }
   ],
   "source": [
    "data.describe().T"
   ]
  },
  {
   "cell_type": "code",
   "execution_count": 20,
   "id": "6cbb5201",
   "metadata": {},
   "outputs": [
    {
     "data": {
      "text/plain": [
       "<seaborn.axisgrid.FacetGrid at 0x198df971430>"
      ]
     },
     "execution_count": 20,
     "metadata": {},
     "output_type": "execute_result"
    },
    {
     "data": {
      "image/png": "[encoded data removed]",
      "text/plain": [
       "<Figure size 360x360 with 1 Axes>"
      ]
     },
     "metadata": {
      "needs_background": "light"
     },
     "output_type": "display_data"
    }
   ],
   "source": [
    "sns.displot(x=data['price'])"
   ]
  },
  {
   "cell_type": "code",
   "execution_count": 21,
   "id": "15d0b477",
   "metadata": {},
   "outputs": [
    {
     "data": {
      "text/plain": [
       "dtype('<M8[ns]')"
      ]
     },
     "execution_count": 21,
     "metadata": {},
     "output_type": "execute_result"
    }
   ],
   "source": [
    "#converting the date type into datetime\n",
    "data['date'] = pd.to_datetime(data['date'])\n",
    "data['date'].dtype"
   ]
  },
  {
   "cell_type": "code",
   "execution_count": 22,
   "id": "6d33923b",
   "metadata": {},
   "outputs": [],
   "source": [
    "data['year'] = data['date'].dt.year\n",
    "data['month'] = data['date'].dt.month"
   ]
  },
  {
   "cell_type": "code",
   "execution_count": 23,
   "id": "4e09118d",
   "metadata": {},
   "outputs": [],
   "source": [
    "data.drop(['year', 'date'], axis=1, inplace=True)"
   ]
  },
  {
   "cell_type": "code",
   "execution_count": 24,
   "id": "b72e6402",
   "metadata": {},
   "outputs": [
    {
     "data": {
      "text/plain": [
       "<seaborn.axisgrid.FacetGrid at 0x198dc301b50>"
      ]
     },
     "execution_count": 24,
     "metadata": {},
     "output_type": "execute_result"
    },
    {
     "data": {
      "image/png": "[encoded data removed]",
      "text/plain": [
       "<Figure size 360x360 with 1 Axes>"
      ]
     },
     "metadata": {
      "needs_background": "light"
     },
     "output_type": "display_data"
    }
   ],
   "source": [
    "sns.displot(x=data['bedrooms'])"
   ]
  },
  {
   "cell_type": "code",
   "execution_count": 25,
   "id": "6f449d61",
   "metadata": {},
   "outputs": [
    {
     "data": {
      "text/plain": [
       "3.0    1981\n",
       "4.0    1394\n",
       "2.0     557\n",
       "5.0     282\n",
       "6.0      47\n",
       "1.0      37\n",
       "7.0      10\n",
       "9.0       1\n",
       "0.0       1\n",
       "8.0       1\n",
       "Name: bedrooms, dtype: int64"
      ]
     },
     "execution_count": 25,
     "metadata": {},
     "output_type": "execute_result"
    }
   ],
   "source": [
    "data['bedrooms'].value_counts()"
   ]
  },
  {
   "cell_type": "code",
   "execution_count": 26,
   "id": "60dc2ed7",
   "metadata": {},
   "outputs": [
    {
     "data": {
      "text/plain": [
       "3    1981\n",
       "4    1394\n",
       "2     557\n",
       "5     282\n",
       "6      47\n",
       "1      37\n",
       "7      10\n",
       "Name: bedrooms, dtype: int64"
      ]
     },
     "execution_count": 26,
     "metadata": {},
     "output_type": "execute_result"
    }
   ],
   "source": [
    "data = data[(data['bedrooms'] > 0) & (data['bedrooms'] < 8)]\n",
    "data['bedrooms'] = data['bedrooms'].astype('int')\n",
    "data['bedrooms'].value_counts()"
   ]
  },
  {
   "cell_type": "markdown",
   "id": "c48b139d",
   "metadata": {},
   "source": [
    "Bathrooms"
   ]
  },
  {
   "cell_type": "code",
   "execution_count": 27,
   "id": "f82bba08",
   "metadata": {},
   "outputs": [
    {
     "data": {
      "text/plain": [
       "<seaborn.axisgrid.FacetGrid at 0x198dc4be9a0>"
      ]
     },
     "execution_count": 27,
     "metadata": {},
     "output_type": "execute_result"
    },
    {
     "data": {
      "image/png": "[encoded data removed]",
      "text/plain": [
       "<Figure size 360x360 with 1 Axes>"
      ]
     },
     "metadata": {
      "needs_background": "light"
     },
     "output_type": "display_data"
    }
   ],
   "source": [
    "sns.displot(x=data['bathrooms'])"
   ]
  },
  {
   "cell_type": "code",
   "execution_count": 28,
   "id": "9fbe0631",
   "metadata": {},
   "outputs": [],
   "source": [
    "data['bathrooms'] = data['bathrooms'].astype('int')"
   ]
  },
  {
   "cell_type": "markdown",
   "id": "b0f6460e",
   "metadata": {},
   "source": [
    "Floors"
   ]
  },
  {
   "cell_type": "code",
   "execution_count": 29,
   "id": "7f20ef61",
   "metadata": {},
   "outputs": [
    {
     "data": {
      "text/plain": [
       "1.0    2105\n",
       "2.0    1640\n",
       "1.5     415\n",
       "3.0     120\n",
       "2.5      27\n",
       "3.5       1\n",
       "Name: floors, dtype: int64"
      ]
     },
     "execution_count": 29,
     "metadata": {},
     "output_type": "execute_result"
    }
   ],
   "source": [
    "data['floors'].value_counts()"
   ]
  },
  {
   "cell_type": "code",
   "execution_count": 30,
   "id": "f25a9103",
   "metadata": {},
   "outputs": [],
   "source": [
    "data['floors'] = data['floors'].astype('int')"
   ]
  },
  {
   "cell_type": "markdown",
   "id": "2e122fe4",
   "metadata": {},
   "source": [
    "WaterFront"
   ]
  },
  {
   "cell_type": "code",
   "execution_count": 31,
   "id": "988ae1f4",
   "metadata": {},
   "outputs": [
    {
     "data": {
      "text/plain": [
       "0    4292\n",
       "1      16\n",
       "Name: waterfront, dtype: int64"
      ]
     },
     "execution_count": 31,
     "metadata": {},
     "output_type": "execute_result"
    }
   ],
   "source": [
    "data['waterfront'].value_counts()"
   ]
  },
  {
   "cell_type": "markdown",
   "id": "d7d498dd",
   "metadata": {},
   "source": [
    "Conditions"
   ]
  },
  {
   "cell_type": "code",
   "execution_count": 32,
   "id": "217c3e4f",
   "metadata": {},
   "outputs": [
    {
     "data": {
      "text/plain": [
       "3    2702\n",
       "4    1185\n",
       "5     385\n",
       "2      30\n",
       "1       6\n",
       "Name: condition, dtype: int64"
      ]
     },
     "execution_count": 32,
     "metadata": {},
     "output_type": "execute_result"
    }
   ],
   "source": [
    "data['condition'].value_counts()"
   ]
  },
  {
   "cell_type": "code",
   "execution_count": 33,
   "id": "11b95aa3",
   "metadata": {},
   "outputs": [
    {
     "data": {
      "text/plain": [
       "<AxesSubplot:>"
      ]
     },
     "execution_count": 33,
     "metadata": {},
     "output_type": "execute_result"
    },
    {
     "data": {
      "image/png": "[encoded data removed]",
      "text/plain": [
       "<Figure size 432x288 with 2 Axes>"
      ]
     },
     "metadata": {
      "needs_background": "light"
     },
     "output_type": "display_data"
    }
   ],
   "source": [
    "sns.heatmap(data[['price', 'condition', 'waterfront', 'floors', 'view']].corr(), annot=True, cmap=\"Blues\")"
   ]
  },
  {
   "cell_type": "markdown",
   "id": "a173dce3",
   "metadata": {},
   "source": [
    "\"Sqrt_living\", \"sqft_lot\", \"sqrt_above\", \"sqrt_basement\""
   ]
  },
  {
   "cell_type": "code",
   "execution_count": 34,
   "id": "68a4e82a",
   "metadata": {},
   "outputs": [
    {
     "data": {
      "image/png": "[encoded data removed]",
      "text/plain": [
       "<Figure size 1296x720 with 4 Axes>"
      ]
     },
     "metadata": {
      "needs_background": "light"
     },
     "output_type": "display_data"
    }
   ],
   "source": [
    "fig, axes = plt.subplots(2, 2, figsize=(18, 10))\n",
    "sns.histplot(ax=axes[0,0],x=\"sqft_living\", data=data);\n",
    "sns.histplot(ax=axes[0, 1],x=\"sqft_lot\", data=data);\n",
    "sns.histplot(ax=axes[1,0],x=\"sqft_above\", data=data);\n",
    "sns.histplot(ax=axes[1, 1],x=\"sqft_basement\", data=data);"
   ]
  },
  {
   "cell_type": "code",
   "execution_count": 35,
   "id": "07660a28",
   "metadata": {},
   "outputs": [
    {
     "data": {
      "image/png": "[encoded data removed]",
      "text/plain": [
       "<Figure size 432x288 with 2 Axes>"
      ]
     },
     "metadata": {
      "needs_background": "light"
     },
     "output_type": "display_data"
    }
   ],
   "source": [
    "sns.heatmap(data[[\"price\", \"sqft_living\", \"sqft_lot\", \"sqft_above\", \"sqft_basement\"]].corr(), annot=True);"
   ]
  },
  {
   "cell_type": "markdown",
   "id": "f34bbd86",
   "metadata": {},
   "source": [
    "Year Built"
   ]
  },
  {
   "cell_type": "code",
   "execution_count": 36,
   "id": "e926db79",
   "metadata": {},
   "outputs": [
    {
     "data": {
      "text/plain": [
       "<AxesSubplot:xlabel='yr_built', ylabel='Count'>"
      ]
     },
     "execution_count": 36,
     "metadata": {},
     "output_type": "execute_result"
    },
    {
     "data": {
      "image/png": "[encoded data removed]",
      "text/plain": [
       "<Figure size 432x288 with 1 Axes>"
      ]
     },
     "metadata": {
      "needs_background": "light"
     },
     "output_type": "display_data"
    }
   ],
   "source": [
    "sns.histplot(x=data['yr_built'],data=data)"
   ]
  },
  {
   "cell_type": "code",
   "execution_count": 37,
   "id": "f425a1df",
   "metadata": {},
   "outputs": [
    {
     "data": {
      "text/plain": [
       "<AxesSubplot:xlabel='yr_built', ylabel='price'>"
      ]
     },
     "execution_count": 37,
     "metadata": {},
     "output_type": "execute_result"
    },
    {
     "data": {
      "image/png": "[encoded data removed]",
      "text/plain": [
       "<Figure size 432x288 with 1 Axes>"
      ]
     },
     "metadata": {
      "needs_background": "light"
     },
     "output_type": "display_data"
    }
   ],
   "source": [
    "sns.scatterplot(x=data['yr_built'], y=data['price'], color='red')"
   ]
  },
  {
   "cell_type": "markdown",
   "id": "243ec632",
   "metadata": {},
   "source": [
    "Year Renovated"
   ]
  },
  {
   "cell_type": "code",
   "execution_count": 38,
   "id": "9eee0b96",
   "metadata": {},
   "outputs": [
    {
     "data": {
      "text/plain": [
       "<AxesSubplot:xlabel='yr_renovated', ylabel='Count'>"
      ]
     },
     "execution_count": 38,
     "metadata": {},
     "output_type": "execute_result"
    },
    {
     "data": {
      "image/png": "[encoded data removed]",
      "text/plain": [
       "<Figure size 432x288 with 1 Axes>"
      ]
     },
     "metadata": {
      "needs_background": "light"
     },
     "output_type": "display_data"
    }
   ],
   "source": [
    "sns.histplot(x=data['yr_renovated'], data=data)"
   ]
  },
  {
   "cell_type": "code",
   "execution_count": 39,
   "id": "961d4892",
   "metadata": {},
   "outputs": [],
   "source": [
    "data['yr_renovated'] = data['yr_renovated'].apply(lambda x: x if x == 0 else 1)"
   ]
  },
  {
   "cell_type": "code",
   "execution_count": 40,
   "id": "1a72bdb2",
   "metadata": {},
   "outputs": [
    {
     "data": {
      "text/plain": [
       "0    2559\n",
       "1    1749\n",
       "Name: yr_renovated, dtype: int64"
      ]
     },
     "execution_count": 40,
     "metadata": {},
     "output_type": "execute_result"
    }
   ],
   "source": [
    "data['yr_renovated'].value_counts()"
   ]
  },
  {
   "cell_type": "code",
   "execution_count": 41,
   "id": "06b5f04a",
   "metadata": {},
   "outputs": [
    {
     "data": {
      "text/html": [
       "<div>\n",
       "<style scoped>\n",
       "    .dataframe tbody tr th:only-of-type {\n",
       "        vertical-align: middle;\n",
       "    }\n",
       "\n",
       "    .dataframe tbody tr th {\n",
       "        vertical-align: top;\n",
       "    }\n",
       "\n",
       "    .dataframe thead th {\n",
       "        text-align: right;\n",
       "    }\n",
       "</style>\n",
       "<table border=\"1\" class=\"dataframe\">\n",
       "  <thead>\n",
       "    <tr style=\"text-align: right;\">\n",
       "      <th></th>\n",
       "      <th>price</th>\n",
       "      <th>bedrooms</th>\n",
       "      <th>bathrooms</th>\n",
       "      <th>sqft_living</th>\n",
       "      <th>sqft_lot</th>\n",
       "      <th>floors</th>\n",
       "      <th>waterfront</th>\n",
       "      <th>view</th>\n",
       "      <th>condition</th>\n",
       "      <th>sqft_above</th>\n",
       "      <th>sqft_basement</th>\n",
       "      <th>yr_built</th>\n",
       "      <th>yr_renovated</th>\n",
       "      <th>street</th>\n",
       "      <th>city</th>\n",
       "      <th>statezip</th>\n",
       "      <th>country</th>\n",
       "      <th>month</th>\n",
       "    </tr>\n",
       "  </thead>\n",
       "  <tbody>\n",
       "    <tr>\n",
       "      <th>0</th>\n",
       "      <td>313000.0</td>\n",
       "      <td>3</td>\n",
       "      <td>1</td>\n",
       "      <td>1340</td>\n",
       "      <td>7912</td>\n",
       "      <td>1</td>\n",
       "      <td>0</td>\n",
       "      <td>0</td>\n",
       "      <td>3</td>\n",
       "      <td>1340</td>\n",
       "      <td>0</td>\n",
       "      <td>1955</td>\n",
       "      <td>1</td>\n",
       "      <td>18810 Densmore Ave N</td>\n",
       "      <td>Shoreline</td>\n",
       "      <td>WA 98133</td>\n",
       "      <td>USA</td>\n",
       "      <td>5</td>\n",
       "    </tr>\n",
       "    <tr>\n",
       "      <th>2</th>\n",
       "      <td>342000.0</td>\n",
       "      <td>3</td>\n",
       "      <td>2</td>\n",
       "      <td>1930</td>\n",
       "      <td>11947</td>\n",
       "      <td>1</td>\n",
       "      <td>0</td>\n",
       "      <td>0</td>\n",
       "      <td>4</td>\n",
       "      <td>1930</td>\n",
       "      <td>0</td>\n",
       "      <td>1966</td>\n",
       "      <td>0</td>\n",
       "      <td>26206-26214 143rd Ave SE</td>\n",
       "      <td>Kent</td>\n",
       "      <td>WA 98042</td>\n",
       "      <td>USA</td>\n",
       "      <td>5</td>\n",
       "    </tr>\n",
       "    <tr>\n",
       "      <th>3</th>\n",
       "      <td>420000.0</td>\n",
       "      <td>3</td>\n",
       "      <td>2</td>\n",
       "      <td>2000</td>\n",
       "      <td>8030</td>\n",
       "      <td>1</td>\n",
       "      <td>0</td>\n",
       "      <td>0</td>\n",
       "      <td>4</td>\n",
       "      <td>1000</td>\n",
       "      <td>1000</td>\n",
       "      <td>1963</td>\n",
       "      <td>0</td>\n",
       "      <td>857 170th Pl NE</td>\n",
       "      <td>Bellevue</td>\n",
       "      <td>WA 98008</td>\n",
       "      <td>USA</td>\n",
       "      <td>5</td>\n",
       "    </tr>\n",
       "    <tr>\n",
       "      <th>4</th>\n",
       "      <td>550000.0</td>\n",
       "      <td>4</td>\n",
       "      <td>2</td>\n",
       "      <td>1940</td>\n",
       "      <td>10500</td>\n",
       "      <td>1</td>\n",
       "      <td>0</td>\n",
       "      <td>0</td>\n",
       "      <td>4</td>\n",
       "      <td>1140</td>\n",
       "      <td>800</td>\n",
       "      <td>1976</td>\n",
       "      <td>1</td>\n",
       "      <td>9105 170th Ave NE</td>\n",
       "      <td>Redmond</td>\n",
       "      <td>WA 98052</td>\n",
       "      <td>USA</td>\n",
       "      <td>5</td>\n",
       "    </tr>\n",
       "    <tr>\n",
       "      <th>5</th>\n",
       "      <td>490000.0</td>\n",
       "      <td>2</td>\n",
       "      <td>1</td>\n",
       "      <td>880</td>\n",
       "      <td>6380</td>\n",
       "      <td>1</td>\n",
       "      <td>0</td>\n",
       "      <td>0</td>\n",
       "      <td>3</td>\n",
       "      <td>880</td>\n",
       "      <td>0</td>\n",
       "      <td>1938</td>\n",
       "      <td>1</td>\n",
       "      <td>522 NE 88th St</td>\n",
       "      <td>Seattle</td>\n",
       "      <td>WA 98115</td>\n",
       "      <td>USA</td>\n",
       "      <td>5</td>\n",
       "    </tr>\n",
       "  </tbody>\n",
       "</table>\n",
       "</div>"
      ],
      "text/plain": [
       "      price  bedrooms  bathrooms  sqft_living  sqft_lot  floors  waterfront  \\\n",
       "0  313000.0         3          1         1340      7912       1           0   \n",
       "2  342000.0         3          2         1930     11947       1           0   \n",
       "3  420000.0         3          2         2000      8030       1           0   \n",
       "4  550000.0         4          2         1940     10500       1           0   \n",
       "5  490000.0         2          1          880      6380       1           0   \n",
       "\n",
       "   view  condition  sqft_above  sqft_basement  yr_built  yr_renovated  \\\n",
       "0     0          3        1340              0      1955             1   \n",
       "2     0          4        1930              0      1966             0   \n",
       "3     0          4        1000           1000      1963             0   \n",
       "4     0          4        1140            800      1976             1   \n",
       "5     0          3         880              0      1938             1   \n",
       "\n",
       "                     street       city  statezip country  month  \n",
       "0      18810 Densmore Ave N  Shoreline  WA 98133     USA      5  \n",
       "2  26206-26214 143rd Ave SE       Kent  WA 98042     USA      5  \n",
       "3           857 170th Pl NE   Bellevue  WA 98008     USA      5  \n",
       "4         9105 170th Ave NE    Redmond  WA 98052     USA      5  \n",
       "5            522 NE 88th St    Seattle  WA 98115     USA      5  "
      ]
     },
     "execution_count": 41,
     "metadata": {},
     "output_type": "execute_result"
    }
   ],
   "source": [
    "data.head()"
   ]
  },
  {
   "cell_type": "markdown",
   "id": "859c1911",
   "metadata": {},
   "source": [
    "Country"
   ]
  },
  {
   "cell_type": "code",
   "execution_count": 42,
   "id": "c767494d",
   "metadata": {},
   "outputs": [
    {
     "data": {
      "text/plain": [
       "USA    4308\n",
       "Name: country, dtype: int64"
      ]
     },
     "execution_count": 42,
     "metadata": {},
     "output_type": "execute_result"
    }
   ],
   "source": [
    "data['country'].value_counts()"
   ]
  },
  {
   "cell_type": "code",
   "execution_count": 43,
   "id": "8c910131",
   "metadata": {},
   "outputs": [
    {
     "data": {
      "text/plain": [
       "Seattle                1459\n",
       "Renton                  291\n",
       "Bellevue                232\n",
       "Redmond                 227\n",
       "Kent                    183\n",
       "Issaquah                183\n",
       "Kirkland                176\n",
       "Auburn                  175\n",
       "Sammamish               166\n",
       "Federal Way             145\n",
       "Shoreline               120\n",
       "Woodinville             111\n",
       "Maple Valley             95\n",
       "Burien                   72\n",
       "Snoqualmie               69\n",
       "Kenmore                  65\n",
       "Des Moines               58\n",
       "Mercer Island            50\n",
       "North Bend               50\n",
       "Duvall                   42\n",
       "Covington                41\n",
       "Lake Forest Park         34\n",
       "Bothell                  33\n",
       "Newcastle                31\n",
       "Vashon                   29\n",
       "SeaTac                   28\n",
       "Tukwila                  28\n",
       "Enumclaw                 27\n",
       "Carnation                21\n",
       "Normandy Park            16\n",
       "Fall City                 9\n",
       "Black Diamond             8\n",
       "Ravensdale                7\n",
       "Pacific                   6\n",
       "Algona                    5\n",
       "Clyde Hill                3\n",
       "Skykomish                 3\n",
       "Preston                   2\n",
       "Milton                    2\n",
       "Yarrow Point              2\n",
       "Snoqualmie Pass           1\n",
       "Inglewood-Finn Hill       1\n",
       "Beaux Arts Village        1\n",
       "Medina                    1\n",
       "Name: city, dtype: int64"
      ]
     },
     "execution_count": 43,
     "metadata": {},
     "output_type": "execute_result"
    }
   ],
   "source": [
    "data['city'].value_counts()"
   ]
  },
  {
   "cell_type": "code",
   "execution_count": 44,
   "id": "52771aa3",
   "metadata": {},
   "outputs": [
    {
     "data": {
      "text/plain": [
       "<AxesSubplot:xlabel='city'>"
      ]
     },
     "execution_count": 44,
     "metadata": {},
     "output_type": "execute_result"
    },
    {
     "data": {
      "image/png": "[encoded data removed]",
      "text/plain": [
       "<Figure size 432x288 with 1 Axes>"
      ]
     },
     "metadata": {
      "needs_background": "light"
     },
     "output_type": "display_data"
    }
   ],
   "source": [
    "top_10_cities = data['city'].value_counts().head(10)\n",
    "sns.barplot(x = top_10_cities, y=top_10_cities.index)"
   ]
  },
  {
   "cell_type": "code",
   "execution_count": 45,
   "id": "97da2360",
   "metadata": {},
   "outputs": [
    {
     "data": {
      "text/plain": [
       "WA 98103    144\n",
       "WA 98052    133\n",
       "WA 98117    129\n",
       "WA 98115    124\n",
       "WA 98059    104\n",
       "           ... \n",
       "WA 98288      3\n",
       "WA 98050      2\n",
       "WA 98354      2\n",
       "WA 98068      1\n",
       "WA 98039      1\n",
       "Name: statezip, Length: 77, dtype: int64"
      ]
     },
     "execution_count": 45,
     "metadata": {},
     "output_type": "execute_result"
    }
   ],
   "source": [
    "data['statezip'].value_counts()"
   ]
  },
  {
   "cell_type": "code",
   "execution_count": 46,
   "id": "706a422b",
   "metadata": {},
   "outputs": [],
   "source": [
    "data.drop(['country', 'statezip', 'street'], axis=1, inplace=True)"
   ]
  },
  {
   "cell_type": "code",
   "execution_count": 47,
   "id": "f954fd2a",
   "metadata": {},
   "outputs": [
    {
     "data": {
      "text/html": [
       "<div>\n",
       "<style scoped>\n",
       "    .dataframe tbody tr th:only-of-type {\n",
       "        vertical-align: middle;\n",
       "    }\n",
       "\n",
       "    .dataframe tbody tr th {\n",
       "        vertical-align: top;\n",
       "    }\n",
       "\n",
       "    .dataframe thead th {\n",
       "        text-align: right;\n",
       "    }\n",
       "</style>\n",
       "<table border=\"1\" class=\"dataframe\">\n",
       "  <thead>\n",
       "    <tr style=\"text-align: right;\">\n",
       "      <th></th>\n",
       "      <th>price</th>\n",
       "      <th>bedrooms</th>\n",
       "      <th>bathrooms</th>\n",
       "      <th>sqft_living</th>\n",
       "      <th>sqft_lot</th>\n",
       "      <th>floors</th>\n",
       "      <th>waterfront</th>\n",
       "      <th>view</th>\n",
       "      <th>condition</th>\n",
       "      <th>sqft_above</th>\n",
       "      <th>sqft_basement</th>\n",
       "      <th>yr_built</th>\n",
       "      <th>yr_renovated</th>\n",
       "      <th>city</th>\n",
       "      <th>month</th>\n",
       "    </tr>\n",
       "  </thead>\n",
       "  <tbody>\n",
       "    <tr>\n",
       "      <th>0</th>\n",
       "      <td>313000.0</td>\n",
       "      <td>3</td>\n",
       "      <td>1</td>\n",
       "      <td>1340</td>\n",
       "      <td>7912</td>\n",
       "      <td>1</td>\n",
       "      <td>0</td>\n",
       "      <td>0</td>\n",
       "      <td>3</td>\n",
       "      <td>1340</td>\n",
       "      <td>0</td>\n",
       "      <td>1955</td>\n",
       "      <td>1</td>\n",
       "      <td>Shoreline</td>\n",
       "      <td>5</td>\n",
       "    </tr>\n",
       "    <tr>\n",
       "      <th>2</th>\n",
       "      <td>342000.0</td>\n",
       "      <td>3</td>\n",
       "      <td>2</td>\n",
       "      <td>1930</td>\n",
       "      <td>11947</td>\n",
       "      <td>1</td>\n",
       "      <td>0</td>\n",
       "      <td>0</td>\n",
       "      <td>4</td>\n",
       "      <td>1930</td>\n",
       "      <td>0</td>\n",
       "      <td>1966</td>\n",
       "      <td>0</td>\n",
       "      <td>Kent</td>\n",
       "      <td>5</td>\n",
       "    </tr>\n",
       "  </tbody>\n",
       "</table>\n",
       "</div>"
      ],
      "text/plain": [
       "      price  bedrooms  bathrooms  sqft_living  sqft_lot  floors  waterfront  \\\n",
       "0  313000.0         3          1         1340      7912       1           0   \n",
       "2  342000.0         3          2         1930     11947       1           0   \n",
       "\n",
       "   view  condition  sqft_above  sqft_basement  yr_built  yr_renovated  \\\n",
       "0     0          3        1340              0      1955             1   \n",
       "2     0          4        1930              0      1966             0   \n",
       "\n",
       "        city  month  \n",
       "0  Shoreline      5  \n",
       "2       Kent      5  "
      ]
     },
     "execution_count": 47,
     "metadata": {},
     "output_type": "execute_result"
    }
   ],
   "source": [
    "data.head(2)\n"
   ]
  },
  {
   "cell_type": "markdown",
   "id": "853dc53a",
   "metadata": {},
   "source": [
    "Handling the Categorical data"
   ]
  },
  {
   "cell_type": "code",
   "execution_count": 48,
   "id": "62ab6e9a",
   "metadata": {},
   "outputs": [
    {
     "data": {
      "text/html": [
       "<div>\n",
       "<style scoped>\n",
       "    .dataframe tbody tr th:only-of-type {\n",
       "        vertical-align: middle;\n",
       "    }\n",
       "\n",
       "    .dataframe tbody tr th {\n",
       "        vertical-align: top;\n",
       "    }\n",
       "\n",
       "    .dataframe thead th {\n",
       "        text-align: right;\n",
       "    }\n",
       "</style>\n",
       "<table border=\"1\" class=\"dataframe\">\n",
       "  <thead>\n",
       "    <tr style=\"text-align: right;\">\n",
       "      <th></th>\n",
       "      <th>price</th>\n",
       "      <th>bedrooms</th>\n",
       "      <th>bathrooms</th>\n",
       "      <th>sqft_living</th>\n",
       "      <th>sqft_lot</th>\n",
       "      <th>floors</th>\n",
       "      <th>waterfront</th>\n",
       "      <th>view</th>\n",
       "      <th>condition</th>\n",
       "      <th>sqft_above</th>\n",
       "      <th>...</th>\n",
       "      <th>city_SeaTac</th>\n",
       "      <th>city_Seattle</th>\n",
       "      <th>city_Shoreline</th>\n",
       "      <th>city_Skykomish</th>\n",
       "      <th>city_Snoqualmie</th>\n",
       "      <th>city_Snoqualmie Pass</th>\n",
       "      <th>city_Tukwila</th>\n",
       "      <th>city_Vashon</th>\n",
       "      <th>city_Woodinville</th>\n",
       "      <th>city_Yarrow Point</th>\n",
       "    </tr>\n",
       "  </thead>\n",
       "  <tbody>\n",
       "    <tr>\n",
       "      <th>0</th>\n",
       "      <td>313000.0</td>\n",
       "      <td>3</td>\n",
       "      <td>1</td>\n",
       "      <td>1340</td>\n",
       "      <td>7912</td>\n",
       "      <td>1</td>\n",
       "      <td>0</td>\n",
       "      <td>0</td>\n",
       "      <td>3</td>\n",
       "      <td>1340</td>\n",
       "      <td>...</td>\n",
       "      <td>0</td>\n",
       "      <td>0</td>\n",
       "      <td>1</td>\n",
       "      <td>0</td>\n",
       "      <td>0</td>\n",
       "      <td>0</td>\n",
       "      <td>0</td>\n",
       "      <td>0</td>\n",
       "      <td>0</td>\n",
       "      <td>0</td>\n",
       "    </tr>\n",
       "    <tr>\n",
       "      <th>2</th>\n",
       "      <td>342000.0</td>\n",
       "      <td>3</td>\n",
       "      <td>2</td>\n",
       "      <td>1930</td>\n",
       "      <td>11947</td>\n",
       "      <td>1</td>\n",
       "      <td>0</td>\n",
       "      <td>0</td>\n",
       "      <td>4</td>\n",
       "      <td>1930</td>\n",
       "      <td>...</td>\n",
       "      <td>0</td>\n",
       "      <td>0</td>\n",
       "      <td>0</td>\n",
       "      <td>0</td>\n",
       "      <td>0</td>\n",
       "      <td>0</td>\n",
       "      <td>0</td>\n",
       "      <td>0</td>\n",
       "      <td>0</td>\n",
       "      <td>0</td>\n",
       "    </tr>\n",
       "    <tr>\n",
       "      <th>3</th>\n",
       "      <td>420000.0</td>\n",
       "      <td>3</td>\n",
       "      <td>2</td>\n",
       "      <td>2000</td>\n",
       "      <td>8030</td>\n",
       "      <td>1</td>\n",
       "      <td>0</td>\n",
       "      <td>0</td>\n",
       "      <td>4</td>\n",
       "      <td>1000</td>\n",
       "      <td>...</td>\n",
       "      <td>0</td>\n",
       "      <td>0</td>\n",
       "      <td>0</td>\n",
       "      <td>0</td>\n",
       "      <td>0</td>\n",
       "      <td>0</td>\n",
       "      <td>0</td>\n",
       "      <td>0</td>\n",
       "      <td>0</td>\n",
       "      <td>0</td>\n",
       "    </tr>\n",
       "    <tr>\n",
       "      <th>4</th>\n",
       "      <td>550000.0</td>\n",
       "      <td>4</td>\n",
       "      <td>2</td>\n",
       "      <td>1940</td>\n",
       "      <td>10500</td>\n",
       "      <td>1</td>\n",
       "      <td>0</td>\n",
       "      <td>0</td>\n",
       "      <td>4</td>\n",
       "      <td>1140</td>\n",
       "      <td>...</td>\n",
       "      <td>0</td>\n",
       "      <td>0</td>\n",
       "      <td>0</td>\n",
       "      <td>0</td>\n",
       "      <td>0</td>\n",
       "      <td>0</td>\n",
       "      <td>0</td>\n",
       "      <td>0</td>\n",
       "      <td>0</td>\n",
       "      <td>0</td>\n",
       "    </tr>\n",
       "    <tr>\n",
       "      <th>5</th>\n",
       "      <td>490000.0</td>\n",
       "      <td>2</td>\n",
       "      <td>1</td>\n",
       "      <td>880</td>\n",
       "      <td>6380</td>\n",
       "      <td>1</td>\n",
       "      <td>0</td>\n",
       "      <td>0</td>\n",
       "      <td>3</td>\n",
       "      <td>880</td>\n",
       "      <td>...</td>\n",
       "      <td>0</td>\n",
       "      <td>1</td>\n",
       "      <td>0</td>\n",
       "      <td>0</td>\n",
       "      <td>0</td>\n",
       "      <td>0</td>\n",
       "      <td>0</td>\n",
       "      <td>0</td>\n",
       "      <td>0</td>\n",
       "      <td>0</td>\n",
       "    </tr>\n",
       "  </tbody>\n",
       "</table>\n",
       "<p>5 rows × 57 columns</p>\n",
       "</div>"
      ],
      "text/plain": [
       "      price  bedrooms  bathrooms  sqft_living  sqft_lot  floors  waterfront  \\\n",
       "0  313000.0         3          1         1340      7912       1           0   \n",
       "2  342000.0         3          2         1930     11947       1           0   \n",
       "3  420000.0         3          2         2000      8030       1           0   \n",
       "4  550000.0         4          2         1940     10500       1           0   \n",
       "5  490000.0         2          1          880      6380       1           0   \n",
       "\n",
       "   view  condition  sqft_above  ...  city_SeaTac  city_Seattle  \\\n",
       "0     0          3        1340  ...            0             0   \n",
       "2     0          4        1930  ...            0             0   \n",
       "3     0          4        1000  ...            0             0   \n",
       "4     0          4        1140  ...            0             0   \n",
       "5     0          3         880  ...            0             1   \n",
       "\n",
       "   city_Shoreline  city_Skykomish  city_Snoqualmie  city_Snoqualmie Pass  \\\n",
       "0               1               0                0                     0   \n",
       "2               0               0                0                     0   \n",
       "3               0               0                0                     0   \n",
       "4               0               0                0                     0   \n",
       "5               0               0                0                     0   \n",
       "\n",
       "   city_Tukwila  city_Vashon  city_Woodinville  city_Yarrow Point  \n",
       "0             0            0                 0                  0  \n",
       "2             0            0                 0                  0  \n",
       "3             0            0                 0                  0  \n",
       "4             0            0                 0                  0  \n",
       "5             0            0                 0                  0  \n",
       "\n",
       "[5 rows x 57 columns]"
      ]
     },
     "execution_count": 48,
     "metadata": {},
     "output_type": "execute_result"
    }
   ],
   "source": [
    "data = pd.get_dummies(data, drop_first=True)\n",
    "data.head()"
   ]
  },
  {
   "cell_type": "markdown",
   "id": "a3252916",
   "metadata": {},
   "source": [
    "Splitting the Dataset into X and Y"
   ]
  },
  {
   "cell_type": "code",
   "execution_count": 49,
   "id": "aa6af511",
   "metadata": {},
   "outputs": [],
   "source": [
    "X = data.drop('price',axis=1)\n",
    "y = data['price']"
   ]
  },
  {
   "cell_type": "markdown",
   "id": "282b8e32",
   "metadata": {},
   "source": [
    "Splitting the dataset into training and testing"
   ]
  },
  {
   "cell_type": "code",
   "execution_count": 50,
   "id": "1645cede",
   "metadata": {},
   "outputs": [],
   "source": [
    "from sklearn.model_selection import train_test_split\n",
    "X_train, X_test, y_train, y_test = train_test_split(X, y, test_size=0.2, random_state=42)"
   ]
  },
  {
   "cell_type": "code",
   "execution_count": 51,
   "id": "c6304fb6",
   "metadata": {},
   "outputs": [],
   "source": [
    "from sklearn.preprocessing import StandardScaler\n",
    "sc = StandardScaler()"
   ]
  },
  {
   "cell_type": "code",
   "execution_count": 52,
   "id": "1e6742b8",
   "metadata": {},
   "outputs": [],
   "source": [
    "X_train = sc.fit_transform(X_train)\n",
    "X_test = sc.transform(X_test)"
   ]
  },
  {
   "cell_type": "markdown",
   "id": "d6259d7a",
   "metadata": {},
   "source": [
    "# Creating our model"
   ]
  },
  {
   "cell_type": "code",
   "execution_count": 53,
   "id": "8170e661",
   "metadata": {},
   "outputs": [
    {
     "name": "stdout",
     "output_type": "stream",
     "text": [
      "Accuracy of training set: 0.6994372913476681\n",
      "Accuracy of testing set:  0.6600697578812007\n"
     ]
    }
   ],
   "source": [
    "from sklearn.linear_model import LinearRegression\n",
    "lr = LinearRegression()\n",
    "lr.fit(X_train, y_train)\n",
    "y_pred = lr.predict(X_test)\n",
    "print(f\"Accuracy of training set:\", lr.score(X_train, y_train))\n",
    "print(f\"Accuracy of testing set: \", lr.score(X_test, y_test))"
   ]
  },
  {
   "cell_type": "code",
   "execution_count": 54,
   "id": "86d4c4a8",
   "metadata": {},
   "outputs": [
    {
     "name": "stdout",
     "output_type": "stream",
     "text": [
      "0.6707203238236719\n"
     ]
    }
   ],
   "source": [
    "from sklearn.model_selection import cross_val_score\n",
    "\n",
    "lr = LinearRegression()\n",
    "cv = cross_val_score(lr, X, y, cv=10)\n",
    "print(np.mean(cv))"
   ]
  },
  {
   "cell_type": "code",
   "execution_count": null,
   "id": "b26777a8",
   "metadata": {},
   "outputs": [],
   "source": []
  },
  {
   "cell_type": "code",
   "execution_count": null,
   "id": "eaea66db",
   "metadata": {},
   "outputs": [],
   "source": []
  },
  {
   "cell_type": "code",
   "execution_count": null,
   "id": "eba7f205",
   "metadata": {},
   "outputs": [],
   "source": []
  }
 ],
 "metadata": {
  "kernelspec": {
   "display_name": "Python 3 (ipykernel)",
   "language": "python",
   "name": "python3"
  },
  "language_info": {
   "codemirror_mode": {
    "name": "ipython",
    "version": 3
   },
   "file_extension": ".py",
   "mimetype": "text/x-python",
   "name": "python",
   "nbconvert_exporter": "python",
   "pygments_lexer": "ipython3",
   "version": "3.9.7"
  }
 },
 "nbformat": 4,
 "nbformat_minor": 5
}
